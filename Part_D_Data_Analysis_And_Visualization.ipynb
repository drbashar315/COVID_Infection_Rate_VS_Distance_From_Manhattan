{
 "cells": [
  {
   "cell_type": "markdown",
   "metadata": {},
   "source": [
    "## Part D:  Answering the research question"
   ]
  },
  {
   "cell_type": "markdown",
   "metadata": {},
   "source": [
    "We wanted to know whether there is any relation between the COVID infection rate among the population of the NY state counties and their distance from the New York City. We collected the required data, transfered them to a database, made a new table with the required fields and imported back the table as a CSV.\n",
    "Now we can do the 'analytic' operations to findout the answer."
   ]
  },
  {
   "cell_type": "markdown",
   "metadata": {},
   "source": [
    "### 1. Checking correlation by a scatterplot"
   ]
  },
  {
   "cell_type": "markdown",
   "metadata": {},
   "source": [
    "#### 1a. Overviewing the csv imported from database"
   ]
  },
  {
   "cell_type": "code",
   "execution_count": 1,
   "metadata": {},
   "outputs": [
    {
     "name": "stdout",
     "output_type": "stream",
     "text": [
      "['county', 'Distance_From_Manhattan', 'Total_Case_On_Nov13_2020', 'population', 'Infection_Rate']\n",
      "['Allegany', '233', '589', '46091', '1.2779']\n",
      "['Cattaraugus', '264', '661', '76117', '0.8684']\n",
      "['Cayuga', '204', '609', '76576', '0.7953']\n",
      "['Chautauqua', '300', '1210', '126903', '0.9535']\n",
      "['Chemung', '172', '2280', '83456', '2.7320']\n",
      "['Clinton', '275', '356', '80485', '0.4423']\n"
     ]
    }
   ],
   "source": [
    "import csv\n",
    "n=0\n",
    "with open('Infection_Rate_Vs_Distance_2020_11_13.csv', 'r') as f:\n",
    "    reader = csv.reader(f)\n",
    "    \n",
    "    for line in reader:\n",
    "        print(line)\n",
    "        if n>5:\n",
    "            break\n",
    "        n+=1"
   ]
  },
  {
   "cell_type": "markdown",
   "metadata": {},
   "source": [
    "#### 1b. Making the plot"
   ]
  },
  {
   "cell_type": "code",
   "execution_count": 5,
   "metadata": {},
   "outputs": [
    {
     "data": {
      "text/plain": [
       "Text(0,0.5,'COVID Infection Percentage *10,000')"
      ]
     },
     "execution_count": 5,
     "metadata": {},
     "output_type": "execute_result"
    },
    {
     "data": {
      "image/png": "[encoded data removed]",
      "text/plain": [
       "<Figure size 432x288 with 1 Axes>"
      ]
     },
     "metadata": {
      "needs_background": "light"
     },
     "output_type": "display_data"
    }
   ],
   "source": [
    "import matplotlib.pyplot as plt\n",
    "import csv\n",
    "distance_from_Manhattan, infection_rate  = [], []\n",
    "n=0\n",
    "with open('Infection_Rate_Vs_Distance_2020_11_13.csv') as csv_file:\n",
    "    reader = csv.reader(csv_file)\n",
    "    \n",
    "    for column in reader:\n",
    "        if n>0:\n",
    "            distance_from_Manhattan.append(float(column[1]))\n",
    "            infection_rate.append(float(column[2]))\n",
    "        n+=1\n",
    "plt.scatter(distance_from_Manhattan, infection_rate)\n",
    "\n",
    "plt.xlabel(\"Distance from Manhattan (Miles)\")\n",
    "plt.ylabel(\"COVID Infection Percentage *10,000\")"
   ]
  },
  {
   "cell_type": "markdown",
   "metadata": {},
   "source": [
    "Just by observing the scatterplot, we can visually confirm that there is a strong negetive correlation between the Distance of a county from Manhattan and its COVID infection rate. So, in the next section, we'd go for checking its statistical significance."
   ]
  },
  {
   "cell_type": "markdown",
   "metadata": {},
   "source": [
    "### 2. Finding the Pearson's coefficient and testing its statistical significance at a 95% level"
   ]
  },
  {
   "cell_type": "code",
   "execution_count": 20,
   "metadata": {},
   "outputs": [
    {
     "name": "stdout",
     "output_type": "stream",
     "text": [
      "stat=-0.490, p=0.000\n",
      "The coorelation is statistically significant at a 95% confidence level\n"
     ]
    }
   ],
   "source": [
    "# The python package 'scipi' is used to find the Pearson correlation coefficient \n",
    "# We can test the significance with different confidence level, here a test with 95% confidence is done\n",
    "\n",
    "test_level_percentage =95\n",
    "\n",
    "alpha = 1-test_level_percentage/100\n",
    " \n",
    "from scipy.stats import pearsonr\n",
    "stat, p = pearsonr(distance_from_Manhattan, infection_rate)\n",
    "print('stat=%.3f, p=%.3f' % (stat, p))\n",
    "if p > alpha:\n",
    "    print('No significant dependancy')\n",
    "else:\n",
    "    print('The coorelation is statistically significant at a '+ str(test_level_percentage)+'% '+'confidence level')"
   ]
  },
  {
   "cell_type": "markdown",
   "metadata": {},
   "source": [
    "# Conclusion\n",
    "\n",
    "The answer of the researsch question is 'Yes', meaning that there is a statistically significant relation beteen the COVID infection rate among the population i NY state counties and their distances from New York City (Manhattan).\n",
    "\n",
    "The less the the distance of a county from New York city, the more is the COVID infection rate among its population."
   ]
  }
 ],
 "metadata": {
  "kernelspec": {
   "display_name": "Python 3",
   "language": "python",
   "name": "python3"
  },
  "language_info": {
   "codemirror_mode": {
    "name": "ipython",
    "version": 3
   },
   "file_extension": ".py",
   "mimetype": "text/x-python",
   "name": "python",
   "nbconvert_exporter": "python",
   "pygments_lexer": "ipython3",
   "version": "3.7.1"
  }
 },
 "nbformat": 4,
 "nbformat_minor": 2
}
