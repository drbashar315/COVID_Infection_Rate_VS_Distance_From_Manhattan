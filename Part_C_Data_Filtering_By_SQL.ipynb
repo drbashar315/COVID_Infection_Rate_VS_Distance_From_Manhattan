{
 "cells": [
  {
   "cell_type": "markdown",
   "metadata": {},
   "source": [
    "## Part C: Usage of  SQL to join tables and filter data"
   ]
  },
  {
   "cell_type": "markdown",
   "metadata": {},
   "source": [
    "For answering the the research question (Is there any relation between COVID infection rate in different New York State  counties and their distance from New York City?), We need to join the following three tables:\n",
    "\n",
    "1. `nycovidcase`\n",
    "2. `nydistance`\n",
    "3. `nypopulation\n",
    "\n",
    "\n",
    "We'll filter out the following information in a combined (joined) view table\n",
    "\n",
    "From table 1 : The number of total case on 2020-11-13 (The cumulative total cases will be highest on this date, since it is the last date mentioned in the csv)\n",
    "\n",
    "From table 2 : The distance of each county from Manhattan (fips code = '36061'), NYC\n",
    "\n",
    "From table 3 : The population of each county (to determine the rate of infection among the population in each county)"
   ]
  },
  {
   "cell_type": "markdown",
   "metadata": {},
   "source": [
    "### 1. Connecting a database "
   ]
  },
  {
   "cell_type": "code",
   "execution_count": 1,
   "metadata": {},
   "outputs": [],
   "source": [
    "import pymysql\n",
    "conn = pymysql.connect(host='YourDatabaseUrlOrLocalHost', \\\n",
    "                       port=3306, \\\n",
    "                       user='UserName', \\\n",
    "                       passwd='*******', \\\n",
    "                       db='database_name', autocommit=True)\n",
    "cur = conn.cursor(pymysql.cursors.DictCursor)"
   ]
  },
  {
   "cell_type": "markdown",
   "metadata": {},
   "source": [
    "### 2. Making a function for executing sql commands"
   ]
  },
  {
   "cell_type": "code",
   "execution_count": 2,
   "metadata": {},
   "outputs": [],
   "source": [
    "def execute_sql(sql):\n",
    "    '''Fetches(from a connected database) the result of the given sql command\n",
    "        which should be written in betwwen tripple quotes.\n",
    "       Establishing the database connection and ccursor as 'cur' is a prerequisite'''\n",
    "    cur.execute(sql)\n",
    "    result = cur.fetchall()\n",
    "    return result"
   ]
  },
  {
   "cell_type": "markdown",
   "metadata": {},
   "source": [
    "### 3. Checking distance data"
   ]
  },
  {
   "cell_type": "code",
   "execution_count": 3,
   "metadata": {},
   "outputs": [
    {
     "data": {
      "text/plain": [
       "[{'distanceid': 1, 'fips1': '36013', 'distance': 359.0, 'fips2': '36103'},\n",
       " {'distanceid': 2, 'fips1': '36103', 'distance': 359.0, 'fips2': '36013'},\n",
       " {'distanceid': 3, 'fips1': '36063', 'distance': 357.0, 'fips2': '36103'},\n",
       " {'distanceid': 4, 'fips1': '36103', 'distance': 357.0, 'fips2': '36063'},\n",
       " {'distanceid': 5, 'fips1': '36029', 'distance': 337.0, 'fips2': '36103'}]"
      ]
     },
     "execution_count": 3,
     "metadata": {},
     "output_type": "execute_result"
    }
   ],
   "source": [
    "execute_sql('''SELECT * FROM nydistance LIMIT 5''')"
   ]
  },
  {
   "cell_type": "markdown",
   "metadata": {},
   "source": [
    "### 4. Checking population data"
   ]
  },
  {
   "cell_type": "code",
   "execution_count": 4,
   "metadata": {},
   "outputs": [
    {
     "data": {
      "text/plain": [
       "[{'populationid': 1, 'county': 'Kings', 'population': 2559903},\n",
       " {'populationid': 2, 'county': 'Queens', 'population': 2253858},\n",
       " {'populationid': 3, 'county': 'New York', 'population': 1628706},\n",
       " {'populationid': 4, 'county': 'Suffolk', 'population': 1476601},\n",
       " {'populationid': 5, 'county': 'Bronx', 'population': 1418207}]"
      ]
     },
     "execution_count": 4,
     "metadata": {},
     "output_type": "execute_result"
    }
   ],
   "source": [
    "execute_sql('''SELECT * FROM `nypopulation`limit 5''')"
   ]
  },
  {
   "cell_type": "markdown",
   "metadata": {},
   "source": [
    "### 5. Checking COVID case data"
   ]
  },
  {
   "cell_type": "code",
   "execution_count": 5,
   "metadata": {},
   "outputs": [
    {
     "data": {
      "text/plain": [
       "[{'caseid': 1,\n",
       "  'date': datetime.date(2020, 3, 1),\n",
       "  'county': 'New York City',\n",
       "  'state': 'New York',\n",
       "  'fips': '',\n",
       "  'cases': 1,\n",
       "  'death': 0},\n",
       " {'caseid': 2,\n",
       "  'date': datetime.date(2020, 3, 2),\n",
       "  'county': 'New York City',\n",
       "  'state': 'New York',\n",
       "  'fips': '',\n",
       "  'cases': 1,\n",
       "  'death': 0},\n",
       " {'caseid': 3,\n",
       "  'date': datetime.date(2020, 3, 3),\n",
       "  'county': 'New York City',\n",
       "  'state': 'New York',\n",
       "  'fips': '',\n",
       "  'cases': 2,\n",
       "  'death': 0},\n",
       " {'caseid': 4,\n",
       "  'date': datetime.date(2020, 3, 4),\n",
       "  'county': 'New York City',\n",
       "  'state': 'New York',\n",
       "  'fips': '',\n",
       "  'cases': 2,\n",
       "  'death': 0},\n",
       " {'caseid': 5,\n",
       "  'date': datetime.date(2020, 3, 4),\n",
       "  'county': 'Westchester',\n",
       "  'state': 'New York',\n",
       "  'fips': '36119',\n",
       "  'cases': 9,\n",
       "  'death': 0}]"
      ]
     },
     "execution_count": 5,
     "metadata": {},
     "output_type": "execute_result"
    }
   ],
   "source": [
    "execute_sql('''SELECT * FROM `nycovidcase`limit 5''')"
   ]
  },
  {
   "cell_type": "markdown",
   "metadata": {},
   "source": [
    "### Joining tables and checking fields required for answering the research question"
   ]
  },
  {
   "cell_type": "code",
   "execution_count": 6,
   "metadata": {},
   "outputs": [
    {
     "data": {
      "text/plain": [
       "[{'county': 'Allegany',\n",
       "  'Distance_From_Manhattan': 233.0,\n",
       "  'Total_Case_On_Nov13_2020': 589,\n",
       "  'population': 46091,\n",
       "  'Infection_Rate': Decimal('1.2779')},\n",
       " {'county': 'Cattaraugus',\n",
       "  'Distance_From_Manhattan': 264.0,\n",
       "  'Total_Case_On_Nov13_2020': 661,\n",
       "  'population': 76117,\n",
       "  'Infection_Rate': Decimal('0.8684')},\n",
       " {'county': 'Cayuga',\n",
       "  'Distance_From_Manhattan': 204.0,\n",
       "  'Total_Case_On_Nov13_2020': 609,\n",
       "  'population': 76576,\n",
       "  'Infection_Rate': Decimal('0.7953')},\n",
       " {'county': 'Chautauqua',\n",
       "  'Distance_From_Manhattan': 300.0,\n",
       "  'Total_Case_On_Nov13_2020': 1210,\n",
       "  'population': 126903,\n",
       "  'Infection_Rate': Decimal('0.9535')},\n",
       " {'county': 'Chemung',\n",
       "  'Distance_From_Manhattan': 172.0,\n",
       "  'Total_Case_On_Nov13_2020': 2280,\n",
       "  'population': 83456,\n",
       "  'Infection_Rate': Decimal('2.7320')}]"
      ]
     },
     "execution_count": 6,
     "metadata": {},
     "output_type": "execute_result"
    }
   ],
   "source": [
    "execute_sql('''SELECT c.county, d.distance as Distance_From_Manhattan, c.cases as Total_Case_On_Nov13_2020, p.population, c.cases/p.population*100 as Infection_Rate\n",
    "\n",
    "FROM nycovidcase c, nydistance d, nypopulation p\n",
    "\n",
    "WHERE d.fips1 = '36061'\n",
    "\n",
    "AND d.fips2 = c.fips\n",
    "\n",
    "AND p.county = c.county\n",
    "\n",
    "AND c.date = '2020-11-13'\n",
    "LIMIT 5\n",
    "''')"
   ]
  },
  {
   "cell_type": "markdown",
   "metadata": {},
   "source": [
    "### Making a view table with the fields joined from 3 tables"
   ]
  },
  {
   "cell_type": "code",
   "execution_count": 7,
   "metadata": {},
   "outputs": [
    {
     "data": {
      "text/plain": [
       "()"
      ]
     },
     "execution_count": 7,
     "metadata": {},
     "output_type": "execute_result"
    }
   ],
   "source": [
    "execute_sql(''' CREATE VIEW Infection_Rate_Vs_Distance_2020_11_13 AS\n",
    "\n",
    "SELECT c.county, d.distance as Distance_From_Manhattan, c.cases as Total_Case_On_Nov13_2020, p.population, c.cases/p.population*100 as Infection_Rate\n",
    "\n",
    "FROM nycovidcase c, nydistance d, nypopulation p\n",
    "\n",
    "WHERE d.fips1 = '36061'\n",
    "\n",
    "AND d.fips2 = c.fips\n",
    "\n",
    "AND p.county = c.county\n",
    "\n",
    "AND c.date = '2020-11-13';\n",
    "\n",
    "''')"
   ]
  },
  {
   "cell_type": "markdown",
   "metadata": {},
   "source": [
    "### Exporting the content of the view table as a csv\n",
    "The content of the view table will now be wxported to \"Infection_Rate_Vs_Distance_2020_11_13.csv\" for further operations."
   ]
  }
 ],
 "metadata": {
  "kernelspec": {
   "display_name": "Python 3",
   "language": "python",
   "name": "python3"
  },
  "language_info": {
   "codemirror_mode": {
    "name": "ipython",
    "version": 3
   },
   "file_extension": ".py",
   "mimetype": "text/x-python",
   "name": "python",
   "nbconvert_exporter": "python",
   "pygments_lexer": "ipython3",
   "version": "3.7.1"
  }
 },
 "nbformat": 4,
 "nbformat_minor": 2
}
